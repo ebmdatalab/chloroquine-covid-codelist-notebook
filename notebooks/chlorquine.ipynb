{
 "cells": [
  {
   "cell_type": "code",
   "execution_count": 2,
   "metadata": {},
   "outputs": [],
   "source": [
    "from ebmdatalab import bq\n",
    "import os"
   ]
  },
  {
   "cell_type": "code",
   "execution_count": 3,
   "metadata": {},
   "outputs": [
    {
     "name": "stdout",
     "output_type": "stream",
     "text": [
      "Please visit this URL to authorize this application: https://accounts.google.com/o/oauth2/auth?response_type=code&client_id=725825577420-unm2gnkiprugilg743tkbig250f4sfsj.apps.googleusercontent.com&redirect_uri=urn%3Aietf%3Awg%3Aoauth%3A2.0%3Aoob&scope=https%3A%2F%2Fwww.googleapis.com%2Fauth%2Fbigquery&state=k5PuX5fcezD3rsbfjAGLqc5n2E6BGB&prompt=consent&access_type=offline\n"
     ]
    },
    {
     "name": "stdin",
     "output_type": "stream",
     "text": [
      "Enter the authorization code:  4/xwEL2BH3ifFYfyfSRfpYo3WAQUNA2_rXAAMe4ZUurJHRjzUmih6aVbw\n"
     ]
    },
    {
     "name": "stderr",
     "output_type": "stream",
     "text": [
      "Downloading: 100%|██████████| 96/96 [00:00<00:00, 479.44rows/s]\n"
     ]
    },
    {
     "data": {
      "text/html": [
       "<div>\n",
       "<style scoped>\n",
       "    .dataframe tbody tr th:only-of-type {\n",
       "        vertical-align: middle;\n",
       "    }\n",
       "\n",
       "    .dataframe tbody tr th {\n",
       "        vertical-align: top;\n",
       "    }\n",
       "\n",
       "    .dataframe thead th {\n",
       "        text-align: right;\n",
       "    }\n",
       "</style>\n",
       "<table border=\"1\" class=\"dataframe\">\n",
       "  <thead>\n",
       "    <tr style=\"text-align: right;\">\n",
       "      <th></th>\n",
       "      <th>type</th>\n",
       "      <th>id</th>\n",
       "      <th>bnf_code</th>\n",
       "      <th>nm</th>\n",
       "    </tr>\n",
       "  </thead>\n",
       "  <tbody>\n",
       "    <tr>\n",
       "      <th>0</th>\n",
       "      <td>amp</td>\n",
       "      <td>3728211000001108</td>\n",
       "      <td>0504010F0AAABAB</td>\n",
       "      <td>Chloroquine phosphate 250mg tablets (Alliance ...</td>\n",
       "    </tr>\n",
       "    <tr>\n",
       "      <th>1</th>\n",
       "      <td>amp</td>\n",
       "      <td>3727711000001102</td>\n",
       "      <td>0504010F0BBABAB</td>\n",
       "      <td>Avloclor 250mg tablets (Alliance Pharmaceutica...</td>\n",
       "    </tr>\n",
       "    <tr>\n",
       "      <th>2</th>\n",
       "      <td>amp</td>\n",
       "      <td>4555611000001104</td>\n",
       "      <td>0504010F0BCAAAA</td>\n",
       "      <td>Malarivon 80mg/5ml syrup (Wallace Manufacturin...</td>\n",
       "    </tr>\n",
       "    <tr>\n",
       "      <th>3</th>\n",
       "      <td>amp</td>\n",
       "      <td>4869911000001103</td>\n",
       "      <td>0504010G0AAAAAA</td>\n",
       "      <td>Chloroquine sulfate 200mg/5ml solution for inj...</td>\n",
       "    </tr>\n",
       "    <tr>\n",
       "      <th>4</th>\n",
       "      <td>amp</td>\n",
       "      <td>5858911000001108</td>\n",
       "      <td>0504010G0AAAAAA</td>\n",
       "      <td>Chloroquine sulfate 200mg/5ml solution for inj...</td>\n",
       "    </tr>\n",
       "    <tr>\n",
       "      <th>5</th>\n",
       "      <td>amp</td>\n",
       "      <td>8824411000001104</td>\n",
       "      <td>0504010G0AAAAAA</td>\n",
       "      <td>Chloroquine sulfate 200mg/5ml solution for inj...</td>\n",
       "    </tr>\n",
       "    <tr>\n",
       "      <th>6</th>\n",
       "      <td>amp</td>\n",
       "      <td>32708211000001106</td>\n",
       "      <td>0504010G0AAAFAF</td>\n",
       "      <td>Chloroquine sulfate 68mg/5ml oral solution (Sp...</td>\n",
       "    </tr>\n",
       "    <tr>\n",
       "      <th>7</th>\n",
       "      <td>amp</td>\n",
       "      <td>3736311000001101</td>\n",
       "      <td>0504010G0BBAAAC</td>\n",
       "      <td>Nivaquine 200mg tablets (Sanofi)</td>\n",
       "    </tr>\n",
       "    <tr>\n",
       "      <th>8</th>\n",
       "      <td>amp</td>\n",
       "      <td>3827511000001109</td>\n",
       "      <td>0504010G0BBABAB</td>\n",
       "      <td>Nivaquine 68mg/5ml syrup (Sanofi)</td>\n",
       "    </tr>\n",
       "    <tr>\n",
       "      <th>9</th>\n",
       "      <td>amp</td>\n",
       "      <td>4385111000001102</td>\n",
       "      <td>0504010G0BBACAA</td>\n",
       "      <td>Nivaquine 200mg/5ml solution for injection amp...</td>\n",
       "    </tr>\n",
       "  </tbody>\n",
       "</table>\n",
       "</div>"
      ],
      "text/plain": [
       "  type                 id         bnf_code  \\\n",
       "0  amp   3728211000001108  0504010F0AAABAB   \n",
       "1  amp   3727711000001102  0504010F0BBABAB   \n",
       "2  amp   4555611000001104  0504010F0BCAAAA   \n",
       "3  amp   4869911000001103  0504010G0AAAAAA   \n",
       "4  amp   5858911000001108  0504010G0AAAAAA   \n",
       "5  amp   8824411000001104  0504010G0AAAAAA   \n",
       "6  amp  32708211000001106  0504010G0AAAFAF   \n",
       "7  amp   3736311000001101  0504010G0BBAAAC   \n",
       "8  amp   3827511000001109  0504010G0BBABAB   \n",
       "9  amp   4385111000001102  0504010G0BBACAA   \n",
       "\n",
       "                                                  nm  \n",
       "0  Chloroquine phosphate 250mg tablets (Alliance ...  \n",
       "1  Avloclor 250mg tablets (Alliance Pharmaceutica...  \n",
       "2  Malarivon 80mg/5ml syrup (Wallace Manufacturin...  \n",
       "3  Chloroquine sulfate 200mg/5ml solution for inj...  \n",
       "4  Chloroquine sulfate 200mg/5ml solution for inj...  \n",
       "5  Chloroquine sulfate 200mg/5ml solution for inj...  \n",
       "6  Chloroquine sulfate 68mg/5ml oral solution (Sp...  \n",
       "7                   Nivaquine 200mg tablets (Sanofi)  \n",
       "8                  Nivaquine 68mg/5ml syrup (Sanofi)  \n",
       "9  Nivaquine 200mg/5ml solution for injection amp...  "
      ]
     },
     "execution_count": 3,
     "metadata": {},
     "output_type": "execute_result"
    }
   ],
   "source": [
    "sql = '''WITH bnf_codes AS (\n",
    "  SELECT bnf_code FROM hscic.presentation WHERE \n",
    "    bnf_code LIKE '1001030C0%' OR ##hydroxychloroquine sulfate - BNF sect drugs used in rheumatic disease\n",
    "    bnf_code LIKE '0504010F0%' OR ## chloroquine phosphate - BNF sect antiprotozoal drugs\n",
    "    bnf_code LIKE '0504010Z0%'  OR ## chloroquine phosphate with proguanil - BNF sect antiprotozoal drugs\n",
    "    bnf_code LIKE '0504010G0%' ## chloroquine sulfate - BNF sect antiprotozoal drugs \n",
    "  )\n",
    "\n",
    "SELECT \"vmp\" AS type, id, bnf_code, nm\n",
    "FROM dmd.vmp\n",
    "WHERE bnf_code IN (SELECT * FROM bnf_codes)\n",
    "\n",
    "UNION ALL\n",
    "\n",
    "SELECT \"amp\" AS type, id, bnf_code, descr\n",
    "FROM dmd.amp\n",
    "WHERE bnf_code IN (SELECT * FROM bnf_codes)\n",
    "\n",
    "ORDER BY type, bnf_code, id'''\n",
    "\n",
    "chloroquine_codelist = bq.cached_read(sql, csv_path=os.path.join('..','data','chloroquine_codelist.csv'))\n",
    "chloroquine_codelist.head(10)"
   ]
  },
  {
   "cell_type": "code",
   "execution_count": null,
   "metadata": {},
   "outputs": [],
   "source": [
    "chloroquine_codelist.info()"
   ]
  }
 ],
 "metadata": {
  "jupytext": {
   "cell_metadata_filter": "all",
   "notebook_metadata_filter": "all,-language_info",
   "text_representation": {
    "extension": ".py",
    "format_name": "light",
    "format_version": "1.5",
    "jupytext_version": "1.3.3"
   }
  },
  "kernelspec": {
   "display_name": "Python 3",
   "language": "python",
   "name": "python3"
  },
  "language_info": {
   "codemirror_mode": {
    "name": "ipython",
    "version": 3
   },
   "file_extension": ".py",
   "mimetype": "text/x-python",
   "name": "python",
   "nbconvert_exporter": "python",
   "pygments_lexer": "ipython3",
   "version": "3.8.1"
  }
 },
 "nbformat": 4,
 "nbformat_minor": 4
}
